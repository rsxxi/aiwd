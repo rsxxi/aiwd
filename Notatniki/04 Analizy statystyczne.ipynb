{
 "cells": [
  {
   "cell_type": "code",
   "execution_count": 1,
   "metadata": {},
   "outputs": [],
   "source": [
    "import pandas as pd\n",
    "import numpy as np\n",
    "import scipy.stats as st"
   ]
  },
  {
   "cell_type": "code",
   "execution_count": 2,
   "metadata": {},
   "outputs": [],
   "source": [
    "#rozpakowywanie danych\n",
    "data = pd.read_pickle(\"Data.pickle\")"
   ]
  },
  {
   "cell_type": "code",
   "execution_count": 3,
   "metadata": {},
   "outputs": [
    {
     "data": {
      "text/html": [
       "<div>\n",
       "<style scoped>\n",
       "    .dataframe tbody tr th:only-of-type {\n",
       "        vertical-align: middle;\n",
       "    }\n",
       "\n",
       "    .dataframe tbody tr th {\n",
       "        vertical-align: top;\n",
       "    }\n",
       "\n",
       "    .dataframe thead th {\n",
       "        text-align: right;\n",
       "    }\n",
       "</style>\n",
       "<table border=\"1\" class=\"dataframe\">\n",
       "  <thead>\n",
       "    <tr style=\"text-align: right;\">\n",
       "      <th></th>\n",
       "      <th>School Name</th>\n",
       "      <th>Region</th>\n",
       "      <th>School Type</th>\n",
       "      <th>Starting Median Salary</th>\n",
       "      <th>Mid-Career Median Salary</th>\n",
       "      <th>Mid-Career 10th Percentile Salary</th>\n",
       "      <th>Mid-Career 25th Percentile Salary</th>\n",
       "      <th>Mid-Career 75th Percentile Salary</th>\n",
       "      <th>Mid-Career 90th Percentile Salary</th>\n",
       "    </tr>\n",
       "  </thead>\n",
       "  <tbody>\n",
       "    <tr>\n",
       "      <th>0</th>\n",
       "      <td>California Institute of Technology (CIT)</td>\n",
       "      <td>California</td>\n",
       "      <td>Engineering</td>\n",
       "      <td>75500.0</td>\n",
       "      <td>123000.0</td>\n",
       "      <td>62650.0</td>\n",
       "      <td>104000.0</td>\n",
       "      <td>161000.0</td>\n",
       "      <td>175571.428571</td>\n",
       "    </tr>\n",
       "    <tr>\n",
       "      <th>1</th>\n",
       "      <td>Harvey Mudd College</td>\n",
       "      <td>California</td>\n",
       "      <td>Engineering</td>\n",
       "      <td>71800.0</td>\n",
       "      <td>122000.0</td>\n",
       "      <td>62650.0</td>\n",
       "      <td>96000.0</td>\n",
       "      <td>180000.0</td>\n",
       "      <td>175571.428571</td>\n",
       "    </tr>\n",
       "    <tr>\n",
       "      <th>2</th>\n",
       "      <td>University of California, Berkeley</td>\n",
       "      <td>California</td>\n",
       "      <td>State</td>\n",
       "      <td>59900.0</td>\n",
       "      <td>112000.0</td>\n",
       "      <td>59500.0</td>\n",
       "      <td>81000.0</td>\n",
       "      <td>149000.0</td>\n",
       "      <td>201000.000000</td>\n",
       "    </tr>\n",
       "    <tr>\n",
       "      <th>3</th>\n",
       "      <td>Occidental College</td>\n",
       "      <td>California</td>\n",
       "      <td>Liberal Arts</td>\n",
       "      <td>51900.0</td>\n",
       "      <td>105000.0</td>\n",
       "      <td>NaN</td>\n",
       "      <td>54800.0</td>\n",
       "      <td>157000.0</td>\n",
       "      <td>NaN</td>\n",
       "    </tr>\n",
       "    <tr>\n",
       "      <th>4</th>\n",
       "      <td>Cal Poly San Luis Obispo</td>\n",
       "      <td>California</td>\n",
       "      <td>State</td>\n",
       "      <td>57200.0</td>\n",
       "      <td>101000.0</td>\n",
       "      <td>55000.0</td>\n",
       "      <td>74700.0</td>\n",
       "      <td>133000.0</td>\n",
       "      <td>178000.000000</td>\n",
       "    </tr>\n",
       "    <tr>\n",
       "      <th>...</th>\n",
       "      <td>...</td>\n",
       "      <td>...</td>\n",
       "      <td>...</td>\n",
       "      <td>...</td>\n",
       "      <td>...</td>\n",
       "      <td>...</td>\n",
       "      <td>...</td>\n",
       "      <td>...</td>\n",
       "      <td>...</td>\n",
       "    </tr>\n",
       "    <tr>\n",
       "      <th>255</th>\n",
       "      <td>Fitchburg State College</td>\n",
       "      <td>Northeastern</td>\n",
       "      <td>State</td>\n",
       "      <td>42400.0</td>\n",
       "      <td>72600.0</td>\n",
       "      <td>43300.0</td>\n",
       "      <td>56100.0</td>\n",
       "      <td>99600.0</td>\n",
       "      <td>151000.000000</td>\n",
       "    </tr>\n",
       "    <tr>\n",
       "      <th>256</th>\n",
       "      <td>University Of Maine</td>\n",
       "      <td>Northeastern</td>\n",
       "      <td>State</td>\n",
       "      <td>41200.0</td>\n",
       "      <td>72100.0</td>\n",
       "      <td>41700.0</td>\n",
       "      <td>55600.0</td>\n",
       "      <td>99300.0</td>\n",
       "      <td>141000.000000</td>\n",
       "    </tr>\n",
       "    <tr>\n",
       "      <th>257</th>\n",
       "      <td>State University of New York (SUNY) at Potsdam</td>\n",
       "      <td>Northeastern</td>\n",
       "      <td>State</td>\n",
       "      <td>38000.0</td>\n",
       "      <td>70300.0</td>\n",
       "      <td>35100.0</td>\n",
       "      <td>51200.0</td>\n",
       "      <td>100000.0</td>\n",
       "      <td>179000.000000</td>\n",
       "    </tr>\n",
       "    <tr>\n",
       "      <th>258</th>\n",
       "      <td>State University of New York (SUNY) at Fredonia</td>\n",
       "      <td>Northeastern</td>\n",
       "      <td>State</td>\n",
       "      <td>37800.0</td>\n",
       "      <td>66200.0</td>\n",
       "      <td>32800.0</td>\n",
       "      <td>44200.0</td>\n",
       "      <td>93300.0</td>\n",
       "      <td>181000.000000</td>\n",
       "    </tr>\n",
       "    <tr>\n",
       "      <th>259</th>\n",
       "      <td>University of Southern Maine</td>\n",
       "      <td>Northeastern</td>\n",
       "      <td>State</td>\n",
       "      <td>39400.0</td>\n",
       "      <td>63600.0</td>\n",
       "      <td>40400.0</td>\n",
       "      <td>47900.0</td>\n",
       "      <td>85700.0</td>\n",
       "      <td>117000.000000</td>\n",
       "    </tr>\n",
       "  </tbody>\n",
       "</table>\n",
       "<p>260 rows × 9 columns</p>\n",
       "</div>"
      ],
      "text/plain": [
       "                                         School Name        Region  \\\n",
       "0           California Institute of Technology (CIT)    California   \n",
       "1                                Harvey Mudd College    California   \n",
       "2                 University of California, Berkeley    California   \n",
       "3                                 Occidental College    California   \n",
       "4                           Cal Poly San Luis Obispo    California   \n",
       "..                                               ...           ...   \n",
       "255                          Fitchburg State College  Northeastern   \n",
       "256                              University Of Maine  Northeastern   \n",
       "257   State University of New York (SUNY) at Potsdam  Northeastern   \n",
       "258  State University of New York (SUNY) at Fredonia  Northeastern   \n",
       "259                     University of Southern Maine  Northeastern   \n",
       "\n",
       "      School Type  Starting Median Salary  Mid-Career Median Salary  \\\n",
       "0     Engineering                 75500.0                  123000.0   \n",
       "1     Engineering                 71800.0                  122000.0   \n",
       "2           State                 59900.0                  112000.0   \n",
       "3    Liberal Arts                 51900.0                  105000.0   \n",
       "4           State                 57200.0                  101000.0   \n",
       "..            ...                     ...                       ...   \n",
       "255         State                 42400.0                   72600.0   \n",
       "256         State                 41200.0                   72100.0   \n",
       "257         State                 38000.0                   70300.0   \n",
       "258         State                 37800.0                   66200.0   \n",
       "259         State                 39400.0                   63600.0   \n",
       "\n",
       "     Mid-Career 10th Percentile Salary  Mid-Career 25th Percentile Salary  \\\n",
       "0                              62650.0                           104000.0   \n",
       "1                              62650.0                            96000.0   \n",
       "2                              59500.0                            81000.0   \n",
       "3                                  NaN                            54800.0   \n",
       "4                              55000.0                            74700.0   \n",
       "..                                 ...                                ...   \n",
       "255                            43300.0                            56100.0   \n",
       "256                            41700.0                            55600.0   \n",
       "257                            35100.0                            51200.0   \n",
       "258                            32800.0                            44200.0   \n",
       "259                            40400.0                            47900.0   \n",
       "\n",
       "     Mid-Career 75th Percentile Salary  Mid-Career 90th Percentile Salary  \n",
       "0                             161000.0                      175571.428571  \n",
       "1                             180000.0                      175571.428571  \n",
       "2                             149000.0                      201000.000000  \n",
       "3                             157000.0                                NaN  \n",
       "4                             133000.0                      178000.000000  \n",
       "..                                 ...                                ...  \n",
       "255                            99600.0                      151000.000000  \n",
       "256                            99300.0                      141000.000000  \n",
       "257                           100000.0                      179000.000000  \n",
       "258                            93300.0                      181000.000000  \n",
       "259                            85700.0                      117000.000000  \n",
       "\n",
       "[260 rows x 9 columns]"
      ]
     },
     "execution_count": 3,
     "metadata": {},
     "output_type": "execute_result"
    }
   ],
   "source": [
    "data"
   ]
  },
  {
   "cell_type": "markdown",
   "metadata": {},
   "source": [
    "## Analiza korelacji między medianą zarobków początkowych absolwentów a ich zarobków 10 lat od rozpoczęcia kariery"
   ]
  },
  {
   "cell_type": "code",
   "execution_count": 4,
   "metadata": {},
   "outputs": [
    {
     "data": {
      "text/plain": [
       "(0.9009217367567477, 1.6152279024528496e-95)"
      ]
     },
     "execution_count": 4,
     "metadata": {},
     "output_type": "execute_result"
    }
   ],
   "source": [
    "st.pearsonr(data['Starting Median Salary'],data['Mid-Career Median Salary'])"
   ]
  },
  {
   "cell_type": "markdown",
   "metadata": {},
   "source": [
    "Współczynnik korelacji r-Pearsona między początkową medianą zarobków a medianą zarobków 10 lat od rozpoczęcia kariery jest bardzo wysoki. Wskazuje to na to, że istnieje bardzo wysoka korelacja między początkowymi zarobkami absolwentów danego uniwersytetu, a ich zarobkami w dalszym życiu zawodowym. Ponadto p o bardzo małej wartości (znacząco poniżej poziomu alfa=0,05) świadczy o wiarygodności korelacji."
   ]
  },
  {
   "cell_type": "markdown",
   "metadata": {},
   "source": [
    "## Test istotności różnic między medianą zarobków 10 lat od rozpoczęcia kariery absolwentów uniwersytetów z regionu Southern i regionu Northeast"
   ]
  },
  {
   "cell_type": "code",
   "execution_count": 5,
   "metadata": {},
   "outputs": [
    {
     "name": "stdout",
     "output_type": "stream",
     "text": [
      "[26, 36, 62, 67, 69] \n",
      " ['California', 'Western', 'Midwestern', 'Southern', 'Northeastern']\n"
     ]
    }
   ],
   "source": [
    "# Zbiory zostały wybrane ze względu na to, że są to regiony o największej liczbie uniwersytetów\n",
    "# oraz są prawie równoliczne.\n",
    "# Badanie liczebności zbiorów:\n",
    "x=[]\n",
    "y=[]\n",
    "for region in data.Region.unique():\n",
    "    x.append(len(data.loc[data['Region'] == region].index))\n",
    "    y.append(region)\n",
    "print (x, '\\n', y)"
   ]
  },
  {
   "cell_type": "markdown",
   "metadata": {},
   "source": [
    "Najbardziej licznymi zbiorami są Southern oraz Northeastern, mają również zbliżoną liczność. W celu wykonania testu T z większego zbioru została pobrana próbka o liczności mniejszego zbioru. Pominięcie jedynie dwóch rekordów nie powinno znacząco wpłynąć na analizę."
   ]
  },
  {
   "cell_type": "code",
   "execution_count": 6,
   "metadata": {},
   "outputs": [],
   "source": [
    "# Pobranie losowej próby z większego zbioru\n",
    "sample=data.loc[data['Region'] == 'Northeastern'].sample(n=67)\n",
    "# dla wygody stworzenie zbioru z próbą z całości mniejszego zbioru\n",
    "sample2=data.loc[data['Region'] == 'Southern']"
   ]
  },
  {
   "cell_type": "markdown",
   "metadata": {},
   "source": [
    "Test T wykonywany w poniższy sposób wymaga spełnienia założenia o zbliżonym do normalnego rozkładnie danych. W związku z tym wykonany został test dla rozkładu normalnego dla obu zbiorów. Przy założonym poziomie istotności alfa = 0,05 wynik p mniejszy od alfa oznacza odrzucenie hipotezy zerowej o normalności rozkładu. Wynik p większy od alfa - hipoteza o normalności rozkładu nie jest odrzucana."
   ]
  },
  {
   "cell_type": "code",
   "execution_count": 7,
   "metadata": {},
   "outputs": [
    {
     "data": {
      "text/plain": [
       "NormaltestResult(statistic=3.729395454042106, pvalue=0.15494303790076197)"
      ]
     },
     "execution_count": 7,
     "metadata": {},
     "output_type": "execute_result"
    }
   ],
   "source": [
    "st.normaltest(sample['Mid-Career Median Salary'])"
   ]
  },
  {
   "cell_type": "code",
   "execution_count": 8,
   "metadata": {},
   "outputs": [
    {
     "data": {
      "text/plain": [
       "NormaltestResult(statistic=1.7663357498922758, pvalue=0.41347101035437683)"
      ]
     },
     "execution_count": 8,
     "metadata": {},
     "output_type": "execute_result"
    }
   ],
   "source": [
    "st.normaltest(sample2['Mid-Career Median Salary'])"
   ]
  },
  {
   "cell_type": "markdown",
   "metadata": {},
   "source": [
    "Oba rozkłady można uznać za normalne. Następnie należy sprawdzić równość wariancji. W tym celu wykonany został test levene'a. Podobnie jak w teście rozkładu, p mniejsze od alfa świadczy o tym, że hipotezę zerową o równości wariacji należy odrzucić."
   ]
  },
  {
   "cell_type": "code",
   "execution_count": 9,
   "metadata": {},
   "outputs": [
    {
     "data": {
      "text/plain": [
       "LeveneResult(statistic=14.97141197800633, pvalue=0.0001707427883300336)"
      ]
     },
     "execution_count": 9,
     "metadata": {},
     "output_type": "execute_result"
    }
   ],
   "source": [
    "st.levene(sample['Mid-Career Median Salary'],sample2['Mid-Career Median Salary'])"
   ]
  },
  {
   "cell_type": "markdown",
   "metadata": {},
   "source": [
    "Wariancje nie są równe, hipotezę odrzucamy, w związku z tym wykonując test istotności różnic wykorzystujemy dodatkowy parametr informujący o nierównych wariancjach. P niższe od alfa będzie świadczyło o tym, że róznice są istotne"
   ]
  },
  {
   "cell_type": "code",
   "execution_count": 10,
   "metadata": {},
   "outputs": [
    {
     "data": {
      "text/plain": [
       "Ttest_indResult(statistic=5.492292555377446, pvalue=2.4957269581564933e-07)"
      ]
     },
     "execution_count": 10,
     "metadata": {},
     "output_type": "execute_result"
    }
   ],
   "source": [
    "st.ttest_ind(sample['Mid-Career Median Salary'],sample2['Mid-Career Median Salary'],equal_var= False)"
   ]
  },
  {
   "cell_type": "markdown",
   "metadata": {},
   "source": [
    "Wynikowe p jest zdecydowanie poniżej poziomu alfa. Test istotności wykazał więc, że różnice w medianie zarobków 10 lat po rozpoczęciu kariery dla wybranych regionów są statystycznie istotne."
   ]
  },
  {
   "cell_type": "code",
   "execution_count": null,
   "metadata": {},
   "outputs": [],
   "source": []
  }
 ],
 "metadata": {
  "kernelspec": {
   "display_name": "Python 3",
   "language": "python",
   "name": "python3"
  },
  "language_info": {
   "codemirror_mode": {
    "name": "ipython",
    "version": 3
   },
   "file_extension": ".py",
   "mimetype": "text/x-python",
   "name": "python",
   "nbconvert_exporter": "python",
   "pygments_lexer": "ipython3",
   "version": "3.9.1"
  }
 },
 "nbformat": 4,
 "nbformat_minor": 4
}
